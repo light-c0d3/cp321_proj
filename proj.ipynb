{
 "cells": [
  {
   "cell_type": "markdown",
   "metadata": {},
   "source": [
    "# CP321 Project (  Marks)\n",
    "\n",
    "Student #1:\n",
    "Name:        Malika Sharma\n",
    "Student ID:  210 - 37\n",
    "\n",
    "Student #2:\n",
    "Name:        Ruveyda Nur Kizmaz\n",
    "Student ID:  210960430"
   ]
  },
  {
   "cell_type": "markdown",
   "metadata": {},
   "source": [
    "## Introduction & Motivation\n",
    "\n",
    "Introduction: xxx\n",
    "\n",
    "Our Motivation:  xxxxxxx\n",
    "\n",
    "## Propose Approach\n",
    "\n",
    "Our Question: What are the trends in student achievements for reading, writing, and mathematics in grades 3, 6, and 9 EQAO assessments across Ontario from 2019 to 2023?\n",
    "\n",
    "Related Dataset:\n",
    "https://data.ontario.ca/dataset school-information-and-student-demographics \n",
    "\n",
    "Dataset Description:\n",
    "\n",
    "Data Processing:     ??\n",
    "\n",
    "\n",
    "Related Graphs we will cover in this file:\n",
    "- \n",
    "-\n"
   ]
  },
  {
   "cell_type": "code",
   "execution_count": null,
   "metadata": {},
   "outputs": [],
   "source": []
  }
 ],
 "metadata": {
  "language_info": {
   "name": "python"
  }
 },
 "nbformat": 4,
 "nbformat_minor": 2
}
