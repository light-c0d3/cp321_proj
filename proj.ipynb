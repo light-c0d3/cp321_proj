{
 "cells": [
  {
   "cell_type": "markdown",
   "metadata": {},
   "source": [
    "# CP321 Project (20 Marks)\n",
    "\n",
    "Student #1:\n",
    "\n",
    "Name:        Malika Sharma\n",
    "\n",
    "Student ID:  210 - 37\n",
    "\n",
    "\n",
    "Student #2:\n",
    "\n",
    "Name:        Ruveyda Nur Kizmaz\n",
    "\n",
    "Student ID:  210960430"
   ]
  },
  {
   "cell_type": "markdown",
   "metadata": {},
   "source": [
    "### Introduction & Motivation\n",
    "\n",
    "Introduction: xxx\n",
    "\n",
    "Our Motivation:  xxxxxxx\n",
    "\n",
    "### Propose Approach\n",
    "\n",
    "Our Question: What are the trends in student achievements for reading, writing, and mathematics in grades 3, 6, and 9 EQAO assessments across Ontario from 2021 to 2023?\n",
    "\n",
    "Related Dataset:\n",
    "https://data.ontario.ca/datasetschool-information-and-student-demographics \n",
    "\n",
    "Dataset Description:\n",
    "\n",
    "Data Processing:     ??\n",
    "\n",
    "\n",
    "##### Related Graphs we will cover in this file:\n",
    "- \n",
    "-\n"
   ]
  },
  {
   "cell_type": "code",
   "execution_count": null,
   "metadata": {},
   "outputs": [],
   "source": [
    "# Our code starts from here\n",
    "\n",
    "# All imports\n",
    "import pandas as pd\n",
    "import matplotlib.pyplot as plt\n",
    "import numpy as np\n",
    "\n",
    "\n",
    "# test opening file\n",
    "df = pd.read_xlsx(\"data/\")\n",
    "df.head(5)\n",
    "\n"
   ]
  }
 ],
 "metadata": {
  "language_info": {
   "name": "python"
  }
 },
 "nbformat": 4,
 "nbformat_minor": 2
}
